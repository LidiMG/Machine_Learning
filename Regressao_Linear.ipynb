{
  "cells": [
    {
      "cell_type": "markdown",
      "metadata": {
        "id": "view-in-github",
        "colab_type": "text"
      },
      "source": [
        "<a href=\"https://colab.research.google.com/github/LidiMG/Machine_Learning/blob/main/Regressao_Linear.ipynb\" target=\"_parent\"><img src=\"https://colab.research.google.com/assets/colab-badge.svg\" alt=\"Open In Colab\"/></a>"
      ]
    },
    {
      "cell_type": "markdown",
      "metadata": {
        "id": "DbmSKbdzvCSP"
      },
      "source": [
        "<a id='section-zero'></a>"
      ]
    },
    {
      "cell_type": "markdown",
      "metadata": {
        "id": "k3SauwW1vCSP"
      },
      "source": [
        "# Regressão Linear\n",
        "\n",
        "**Objetivos**: Aprender o que é Regressão Linear e introduzir intuições sobre o Método do Gradiente e o Método do Gradiente Estocástico assim como os problemas de regressão de aprendizagem de máquina. Apresentar a biblioteca `SciKit-Learn`."
      ]
    },
    {
      "cell_type": "markdown",
      "metadata": {
        "id": "OtVKi7WNvCSQ"
      },
      "source": [
        "## Definição - Regressão Linear\n",
        "\n",
        "> Uma regressão linear faz uma predição simplesmente computando uma soma ponderada dos atributos (*features*), mais uma constante chamada viés (*bias*), também chamado de constante (*intercept*)."
      ]
    },
    {
      "cell_type": "markdown",
      "metadata": {
        "id": "NPr0AlxBvCSQ"
      },
      "source": [
        "<img src=\"https://github.com/bilhalvadiego/ds-course/blob/main/notebooks/images/reg-linear.png?raw=1\" alt=\"reg-linear\" style=\"width: 400px;\"/>"
      ]
    },
    {
      "cell_type": "markdown",
      "metadata": {
        "id": "jtZGzj-yvCSR"
      },
      "source": [
        "$$ \\hat{y} = \\theta_0 + \\theta_1 x_1 + \\theta_2 x_2 + \\dots + \\theta_n x_n$$\n",
        "\n",
        "$\\hat{y}$ - valor previsto\n",
        "\n",
        "$\\theta$ - parâmetro do modelo\n",
        "\n",
        "$n$ - número de atributos (*features*)\n",
        "\n",
        "$x_i$ - o valor do *inésimo* atributo (*feature*)"
      ]
    },
    {
      "cell_type": "markdown",
      "metadata": {
        "id": "6YYrbso_vCSR"
      },
      "source": [
        "### Exemplo\n",
        "\n",
        "$$\\mathrm{preço~de~residência} = 4500 + 1000\\times \\mathrm{quartos} + 120 \\times \\mathrm{m}^2 + 3000 \\times \\mathrm{banheiros} - 1500 \\times \\mathrm{distância~do~centro~km}$$"
      ]
    },
    {
      "cell_type": "markdown",
      "metadata": {
        "id": "3ofzGSfvvCSS"
      },
      "source": [
        "## Métricas de Desempenho de uma Regressão\n",
        "\n",
        "<img src=\"https://github.com/bilhalvadiego/ds-course/blob/main/notebooks/images/erro-reg.png?raw=1\" alt=\"erro-reg\" style=\"width: 400px;\"/>"
      ]
    },
    {
      "cell_type": "markdown",
      "metadata": {
        "id": "vo-r2M6QvCST"
      },
      "source": [
        "### *Mean Absolute Error* (MAE) - Erro Absoluto Médio"
      ]
    },
    {
      "cell_type": "markdown",
      "metadata": {
        "id": "dj3p0mVIvCST"
      },
      "source": [
        "O erro médio absoluto, MAE (da sigla em inglês Mean Absolute Error), é calculado a partir da **média dos erros absolutos**, ou seja, utilizamos o módulo de cada erro para evitar a subestimação, isso porque, o valor é menos afetado por pontos especialmente extremos (outliers).\n",
        "\n",
        "Cada erro, pode ser interpretado como a diferença entre Y e Ŷ e assim, temos:\n",
        "\n",
        "$$MAE = \\frac{1}{m}\\Sigma_{i=1}^{m}{|\\hat{y}_i - y_i|}$$\n",
        "\n",
        "Utilizamos essa medida em séries temporais, pois há casos em que o erro negativo pode zerar o positivo ou dar uma ideia de que o modelo é preciso. Mas aqui, medimos apenas a distância do valor real, independente de ser acima ou abaixo."
      ]
    },
    {
      "cell_type": "markdown",
      "metadata": {
        "id": "fQ8ayXd3vCSU"
      },
      "source": [
        "### *Mean Squared Error* (MSE) - Erro Quadrático Médio"
      ]
    },
    {
      "cell_type": "markdown",
      "metadata": {
        "id": "-vYrXqhkvCSU"
      },
      "source": [
        "O erro quadrático médio, MSE (da sigla em inglês Mean Squared Error), é comumente usado para verificar a **acurácia de modelos** e dá um maior peso aos maiores erros, já que, ao ser calculado, cada erro é elevado ao quadrado individualmente e, após isso, a média desses erros quadráticos é calculada.\n",
        "\n",
        "Usando o mesmo conceito de erro utilizado anteriormente, temos a equação abaixo:\n",
        "\n",
        "$$MSE = \\frac{1}{m}\\Sigma_{i=1}^{m}{(\\hat{y}_i - y_i)^2}$$\n",
        "\n",
        "Por conta do expoente ao quadrado que o erro assume, essa métrica é bastante sensível a outliers (valores discrepantes) e, caso tenha muitos erros significativos em sua análise, essa métrica poderá ser extrapolada."
      ]
    },
    {
      "cell_type": "markdown",
      "metadata": {
        "id": "d2-991xXvCSV"
      },
      "source": [
        "<img src=\"https://github.com/bilhalvadiego/ds-course/blob/main/notebooks/images/gradient-descent.gif?raw=1\" alt=\"gradient-descent-animation\" style=\"width: 60%;\"/>"
      ]
    },
    {
      "cell_type": "markdown",
      "metadata": {
        "id": "D33GfybxvCSV"
      },
      "source": [
        "<img src=\"https://github.com/bilhalvadiego/ds-course/blob/main/notebooks/images/gradient-descent-2.gif?raw=1\" alt=\"gradient-descent-animation\" style=\"width: 60%;\"/>"
      ]
    },
    {
      "cell_type": "markdown",
      "metadata": {
        "id": "Q3zlvvI7vCSV"
      },
      "source": [
        "## Exemplo com o dataset [Boston House Prices](https://scikit-learn.org/stable/datasets/toy_dataset.html#boston-house-prices-dataset)\n",
        "\n",
        "\n",
        "* $N = 506$\n",
        "* Atributos: 13\n",
        "    * `CRIM` crime per capita da região\n",
        "    * `ZN` proporção de terra residencial\n",
        "    * `INDUS` proporção terra comercial não-varejista\n",
        "    * `CHAS` *Dummy* se fica as margens do Charles River (1 ou 0)\n",
        "    * `NOX` concentração de óxido nítrico (partes por 10 milhões)\n",
        "    * `RM` número de quartos\n",
        "    * `AGE` idade da residência\n",
        "    * `DIS` distância dos cinco centros de emprego de Boston\n",
        "    * `RAD` acessibilidade às rodovias radiais\n",
        "    * `TAX` valor do IPTU por 10,000 USD\n",
        "    * `PTRATIO` relação professor-aluno (*pupil-teacher ratio*) da região\n",
        "    * `B` proporção de afro-descendentes na região\n",
        "    * `LSTAT` porcentagem de população de baixa-renda\n",
        "* **Variável resposta**: valor da casa por 10,000 USD"
      ]
    },
    {
      "cell_type": "code",
      "execution_count": null,
      "metadata": {
        "ExecuteTime": {
          "end_time": "2023-01-05T00:47:28.565999Z",
          "start_time": "2023-01-05T00:47:27.950760Z"
        },
        "id": "gDk6vkJc_ctM"
      },
      "outputs": [],
      "source": [
        "import pandas as pd\n",
        "\n",
        "boston = pd.read_csv('https://raw.githubusercontent.com/bilhalvadiego/ds-course/main/notebooks/data/BostonHousing.csv')\n"
      ]
    },
    {
      "cell_type": "code",
      "execution_count": null,
      "metadata": {
        "ExecuteTime": {
          "end_time": "2023-01-05T00:47:39.912053Z",
          "start_time": "2023-01-05T00:47:39.898535Z"
        },
        "colab": {
          "base_uri": "https://localhost:8080/",
          "height": 206
        },
        "id": "Hi_JeDjG_ctO",
        "outputId": "00c28c2e-7611-4e5d-fa1b-cc66fd93602c"
      },
      "outputs": [
        {
          "output_type": "execute_result",
          "data": {
            "text/plain": [
              "      crim    zn  indus  chas    nox     rm   age     dis  rad  tax  ptratio  \\\n",
              "0  0.00632  18.0   2.31     0  0.538  6.575  65.2  4.0900    1  296     15.3   \n",
              "1  0.02731   0.0   7.07     0  0.469  6.421  78.9  4.9671    2  242     17.8   \n",
              "2  0.02729   0.0   7.07     0  0.469  7.185  61.1  4.9671    2  242     17.8   \n",
              "3  0.03237   0.0   2.18     0  0.458  6.998  45.8  6.0622    3  222     18.7   \n",
              "4  0.06905   0.0   2.18     0  0.458  7.147  54.2  6.0622    3  222     18.7   \n",
              "\n",
              "        b  lstat  medv  \n",
              "0  396.90   4.98  24.0  \n",
              "1  396.90   9.14  21.6  \n",
              "2  392.83   4.03  34.7  \n",
              "3  394.63   2.94  33.4  \n",
              "4  396.90   5.33  36.2  "
            ],
            "text/html": [
              "\n",
              "  <div id=\"df-ea08ab35-9023-4040-be34-961dcef5d68b\">\n",
              "    <div class=\"colab-df-container\">\n",
              "      <div>\n",
              "<style scoped>\n",
              "    .dataframe tbody tr th:only-of-type {\n",
              "        vertical-align: middle;\n",
              "    }\n",
              "\n",
              "    .dataframe tbody tr th {\n",
              "        vertical-align: top;\n",
              "    }\n",
              "\n",
              "    .dataframe thead th {\n",
              "        text-align: right;\n",
              "    }\n",
              "</style>\n",
              "<table border=\"1\" class=\"dataframe\">\n",
              "  <thead>\n",
              "    <tr style=\"text-align: right;\">\n",
              "      <th></th>\n",
              "      <th>crim</th>\n",
              "      <th>zn</th>\n",
              "      <th>indus</th>\n",
              "      <th>chas</th>\n",
              "      <th>nox</th>\n",
              "      <th>rm</th>\n",
              "      <th>age</th>\n",
              "      <th>dis</th>\n",
              "      <th>rad</th>\n",
              "      <th>tax</th>\n",
              "      <th>ptratio</th>\n",
              "      <th>b</th>\n",
              "      <th>lstat</th>\n",
              "      <th>medv</th>\n",
              "    </tr>\n",
              "  </thead>\n",
              "  <tbody>\n",
              "    <tr>\n",
              "      <th>0</th>\n",
              "      <td>0.00632</td>\n",
              "      <td>18.0</td>\n",
              "      <td>2.31</td>\n",
              "      <td>0</td>\n",
              "      <td>0.538</td>\n",
              "      <td>6.575</td>\n",
              "      <td>65.2</td>\n",
              "      <td>4.0900</td>\n",
              "      <td>1</td>\n",
              "      <td>296</td>\n",
              "      <td>15.3</td>\n",
              "      <td>396.90</td>\n",
              "      <td>4.98</td>\n",
              "      <td>24.0</td>\n",
              "    </tr>\n",
              "    <tr>\n",
              "      <th>1</th>\n",
              "      <td>0.02731</td>\n",
              "      <td>0.0</td>\n",
              "      <td>7.07</td>\n",
              "      <td>0</td>\n",
              "      <td>0.469</td>\n",
              "      <td>6.421</td>\n",
              "      <td>78.9</td>\n",
              "      <td>4.9671</td>\n",
              "      <td>2</td>\n",
              "      <td>242</td>\n",
              "      <td>17.8</td>\n",
              "      <td>396.90</td>\n",
              "      <td>9.14</td>\n",
              "      <td>21.6</td>\n",
              "    </tr>\n",
              "    <tr>\n",
              "      <th>2</th>\n",
              "      <td>0.02729</td>\n",
              "      <td>0.0</td>\n",
              "      <td>7.07</td>\n",
              "      <td>0</td>\n",
              "      <td>0.469</td>\n",
              "      <td>7.185</td>\n",
              "      <td>61.1</td>\n",
              "      <td>4.9671</td>\n",
              "      <td>2</td>\n",
              "      <td>242</td>\n",
              "      <td>17.8</td>\n",
              "      <td>392.83</td>\n",
              "      <td>4.03</td>\n",
              "      <td>34.7</td>\n",
              "    </tr>\n",
              "    <tr>\n",
              "      <th>3</th>\n",
              "      <td>0.03237</td>\n",
              "      <td>0.0</td>\n",
              "      <td>2.18</td>\n",
              "      <td>0</td>\n",
              "      <td>0.458</td>\n",
              "      <td>6.998</td>\n",
              "      <td>45.8</td>\n",
              "      <td>6.0622</td>\n",
              "      <td>3</td>\n",
              "      <td>222</td>\n",
              "      <td>18.7</td>\n",
              "      <td>394.63</td>\n",
              "      <td>2.94</td>\n",
              "      <td>33.4</td>\n",
              "    </tr>\n",
              "    <tr>\n",
              "      <th>4</th>\n",
              "      <td>0.06905</td>\n",
              "      <td>0.0</td>\n",
              "      <td>2.18</td>\n",
              "      <td>0</td>\n",
              "      <td>0.458</td>\n",
              "      <td>7.147</td>\n",
              "      <td>54.2</td>\n",
              "      <td>6.0622</td>\n",
              "      <td>3</td>\n",
              "      <td>222</td>\n",
              "      <td>18.7</td>\n",
              "      <td>396.90</td>\n",
              "      <td>5.33</td>\n",
              "      <td>36.2</td>\n",
              "    </tr>\n",
              "  </tbody>\n",
              "</table>\n",
              "</div>\n",
              "      <button class=\"colab-df-convert\" onclick=\"convertToInteractive('df-ea08ab35-9023-4040-be34-961dcef5d68b')\"\n",
              "              title=\"Convert this dataframe to an interactive table.\"\n",
              "              style=\"display:none;\">\n",
              "        \n",
              "  <svg xmlns=\"http://www.w3.org/2000/svg\" height=\"24px\"viewBox=\"0 0 24 24\"\n",
              "       width=\"24px\">\n",
              "    <path d=\"M0 0h24v24H0V0z\" fill=\"none\"/>\n",
              "    <path d=\"M18.56 5.44l.94 2.06.94-2.06 2.06-.94-2.06-.94-.94-2.06-.94 2.06-2.06.94zm-11 1L8.5 8.5l.94-2.06 2.06-.94-2.06-.94L8.5 2.5l-.94 2.06-2.06.94zm10 10l.94 2.06.94-2.06 2.06-.94-2.06-.94-.94-2.06-.94 2.06-2.06.94z\"/><path d=\"M17.41 7.96l-1.37-1.37c-.4-.4-.92-.59-1.43-.59-.52 0-1.04.2-1.43.59L10.3 9.45l-7.72 7.72c-.78.78-.78 2.05 0 2.83L4 21.41c.39.39.9.59 1.41.59.51 0 1.02-.2 1.41-.59l7.78-7.78 2.81-2.81c.8-.78.8-2.07 0-2.86zM5.41 20L4 18.59l7.72-7.72 1.47 1.35L5.41 20z\"/>\n",
              "  </svg>\n",
              "      </button>\n",
              "      \n",
              "  <style>\n",
              "    .colab-df-container {\n",
              "      display:flex;\n",
              "      flex-wrap:wrap;\n",
              "      gap: 12px;\n",
              "    }\n",
              "\n",
              "    .colab-df-convert {\n",
              "      background-color: #E8F0FE;\n",
              "      border: none;\n",
              "      border-radius: 50%;\n",
              "      cursor: pointer;\n",
              "      display: none;\n",
              "      fill: #1967D2;\n",
              "      height: 32px;\n",
              "      padding: 0 0 0 0;\n",
              "      width: 32px;\n",
              "    }\n",
              "\n",
              "    .colab-df-convert:hover {\n",
              "      background-color: #E2EBFA;\n",
              "      box-shadow: 0px 1px 2px rgba(60, 64, 67, 0.3), 0px 1px 3px 1px rgba(60, 64, 67, 0.15);\n",
              "      fill: #174EA6;\n",
              "    }\n",
              "\n",
              "    [theme=dark] .colab-df-convert {\n",
              "      background-color: #3B4455;\n",
              "      fill: #D2E3FC;\n",
              "    }\n",
              "\n",
              "    [theme=dark] .colab-df-convert:hover {\n",
              "      background-color: #434B5C;\n",
              "      box-shadow: 0px 1px 3px 1px rgba(0, 0, 0, 0.15);\n",
              "      filter: drop-shadow(0px 1px 2px rgba(0, 0, 0, 0.3));\n",
              "      fill: #FFFFFF;\n",
              "    }\n",
              "  </style>\n",
              "\n",
              "      <script>\n",
              "        const buttonEl =\n",
              "          document.querySelector('#df-ea08ab35-9023-4040-be34-961dcef5d68b button.colab-df-convert');\n",
              "        buttonEl.style.display =\n",
              "          google.colab.kernel.accessAllowed ? 'block' : 'none';\n",
              "\n",
              "        async function convertToInteractive(key) {\n",
              "          const element = document.querySelector('#df-ea08ab35-9023-4040-be34-961dcef5d68b');\n",
              "          const dataTable =\n",
              "            await google.colab.kernel.invokeFunction('convertToInteractive',\n",
              "                                                     [key], {});\n",
              "          if (!dataTable) return;\n",
              "\n",
              "          const docLinkHtml = 'Like what you see? Visit the ' +\n",
              "            '<a target=\"_blank\" href=https://colab.research.google.com/notebooks/data_table.ipynb>data table notebook</a>'\n",
              "            + ' to learn more about interactive tables.';\n",
              "          element.innerHTML = '';\n",
              "          dataTable['output_type'] = 'display_data';\n",
              "          await google.colab.output.renderOutput(dataTable, element);\n",
              "          const docLink = document.createElement('div');\n",
              "          docLink.innerHTML = docLinkHtml;\n",
              "          element.appendChild(docLink);\n",
              "        }\n",
              "      </script>\n",
              "    </div>\n",
              "  </div>\n",
              "  "
            ]
          },
          "metadata": {},
          "execution_count": 2
        }
      ],
      "source": [
        "boston.head()"
      ]
    },
    {
      "cell_type": "code",
      "execution_count": null,
      "metadata": {
        "ExecuteTime": {
          "end_time": "2023-01-05T00:48:51.170922Z",
          "start_time": "2023-01-05T00:48:51.166721Z"
        },
        "id": "E2SqHdKevCSW"
      },
      "outputs": [],
      "source": [
        "X = boston.loc[:,'crim':'lstat']\n",
        "y = boston['medv']"
      ]
    },
    {
      "cell_type": "code",
      "execution_count": null,
      "metadata": {
        "ExecuteTime": {
          "end_time": "2023-01-05T00:48:54.499800Z",
          "start_time": "2023-01-05T00:48:54.495957Z"
        },
        "id": "kguBQii9vCSY",
        "colab": {
          "base_uri": "https://localhost:8080/"
        },
        "outputId": "f432795d-8871-40af-a546-e929b68f74d3"
      },
      "outputs": [
        {
          "output_type": "stream",
          "name": "stdout",
          "text": [
            "Tamanho de X: (506, 13)\n",
            "Tamanho de y: (506,)\n"
          ]
        }
      ],
      "source": [
        "print(f\"Tamanho de X: {X.shape}\")\n",
        "print(f\"Tamanho de y: {y.shape}\")"
      ]
    },
    {
      "cell_type": "markdown",
      "metadata": {
        "id": "B5bcuxO7vCSZ"
      },
      "source": [
        "### Quebrando dataset em `train` e `test`\n",
        "\n",
        "Usar a função do Scikit-Learn [`sklearn.model_selection.train_test_split()`](https://scikit-learn.org/stable/modules/generated/sklearn.model_selection.train_test_split.html)\n",
        "\n",
        "#### Argumentos:\n",
        "\n",
        "* matriz a ser dividida - `X` ou `y`\n",
        "* `test_size` - `float` ou `int` do tamanho do dataset de teste (padrão $0.25$)\n",
        "* `train_size` - padrão `1 - test_size`\n",
        "* `random_state` - `int` - seed do gerador de número randômicos (replicabilidade)"
      ]
    },
    {
      "cell_type": "code",
      "execution_count": null,
      "metadata": {
        "ExecuteTime": {
          "end_time": "2023-01-05T00:51:45.931638Z",
          "start_time": "2023-01-05T00:51:45.928640Z"
        },
        "id": "eG0HwS_gvCSZ"
      },
      "outputs": [],
      "source": [
        "from sklearn.model_selection import train_test_split\n",
        "\n",
        "X_train, X_test, y_train, y_test = train_test_split(X,\n",
        "                                                    y,\n",
        "                                                    test_size=0.25,\n",
        "                                                    random_state=123)"
      ]
    },
    {
      "cell_type": "code",
      "source": [
        "# Exemplo fora do notebook\n",
        "import numpy as np\n",
        "SEED = 5252\n",
        "np.random.seed(SEED)\n",
        "np.random.rand()"
      ],
      "metadata": {
        "colab": {
          "base_uri": "https://localhost:8080/"
        },
        "id": "IGowgeLeF-JT",
        "outputId": "14de62e3-bf29-4e0f-cbd1-966fb8c7bc3c"
      },
      "execution_count": null,
      "outputs": [
        {
          "output_type": "execute_result",
          "data": {
            "text/plain": [
              "0.9946915175435148"
            ]
          },
          "metadata": {},
          "execution_count": 23
        }
      ]
    },
    {
      "cell_type": "code",
      "execution_count": null,
      "metadata": {
        "ExecuteTime": {
          "end_time": "2023-01-05T00:51:49.330602Z",
          "start_time": "2023-01-05T00:51:49.327877Z"
        },
        "id": "0HKATJlevCSZ",
        "colab": {
          "base_uri": "https://localhost:8080/"
        },
        "outputId": "049c737c-9a22-485e-eb50-eaeff2107865"
      },
      "outputs": [
        {
          "output_type": "stream",
          "name": "stdout",
          "text": [
            "Tamanho de X_train: (379, 13)\n",
            "Tamanho de X_test: (127, 13)\n",
            "Tamanho de y_train: (379,)\n",
            "Tamanho de y_test: (127,)\n"
          ]
        }
      ],
      "source": [
        "print(f\"Tamanho de X_train: {X_train.shape}\")\n",
        "print(f\"Tamanho de X_test: {X_test.shape}\")\n",
        "print(f\"Tamanho de y_train: {y_train.shape}\")\n",
        "print(f\"Tamanho de y_test: {y_test.shape}\")"
      ]
    },
    {
      "cell_type": "markdown",
      "metadata": {
        "id": "7kdNtrkCvCSa"
      },
      "source": [
        "### Regressão Linear\n",
        "Usar o estimador do Scikit-Learn [`sklearn.linear_model.LinearRegression()`](https://scikit-learn.org/stable/modules/generated/sklearn.linear_model.LinearRegression.html)\n",
        "\n",
        "#### Retorna:\n",
        "* Objeto `estimator` do Scikit-Learn"
      ]
    },
    {
      "cell_type": "code",
      "execution_count": null,
      "metadata": {
        "ExecuteTime": {
          "end_time": "2023-01-05T00:53:19.017664Z",
          "start_time": "2023-01-05T00:53:18.991140Z"
        },
        "id": "0r1oagpTvCSa"
      },
      "outputs": [],
      "source": [
        "from sklearn.linear_model import LinearRegression\n",
        "\n",
        "clf = LinearRegression()"
      ]
    },
    {
      "cell_type": "markdown",
      "metadata": {
        "id": "WHNzVyzuvCSa"
      },
      "source": [
        "### Classe `Estimators`\n",
        "\n",
        "* `.fit()` - Treina o Modelo\n",
        "    * `X`\n",
        "    * `y`\n",
        "* `.predict()` - Gera predições do modelo\n",
        "    * `X`\n",
        "* `.coef_` - Retorna os coeficientes do modelo ($\\theta_i$)\n",
        "* `.intercept_` - Retorna o viés/constante (*bias/intercept*) do modelo ($\\theta_0$)"
      ]
    },
    {
      "cell_type": "code",
      "execution_count": null,
      "metadata": {
        "ExecuteTime": {
          "end_time": "2023-01-05T00:53:37.576001Z",
          "start_time": "2023-01-05T00:53:37.569851Z"
        },
        "id": "TAu7Kn2HvCSa",
        "colab": {
          "base_uri": "https://localhost:8080/"
        },
        "outputId": "1dbb3a22-2393-4c30-8de1-f6d250b91f5f"
      },
      "outputs": [
        {
          "output_type": "execute_result",
          "data": {
            "text/plain": [
              "LinearRegression()"
            ]
          },
          "metadata": {},
          "execution_count": 8
        }
      ],
      "source": [
        "clf.fit(X_train, y_train)"
      ]
    },
    {
      "cell_type": "code",
      "execution_count": null,
      "metadata": {
        "ExecuteTime": {
          "end_time": "2023-01-05T00:54:44.332985Z",
          "start_time": "2023-01-05T00:54:44.329437Z"
        },
        "id": "TqcUfzYtvCSb",
        "colab": {
          "base_uri": "https://localhost:8080/"
        },
        "outputId": "b6e51de1-a58e-4573-9a03-405fd886a6c0"
      },
      "outputs": [
        {
          "output_type": "execute_result",
          "data": {
            "text/plain": [
              "[-0.09789103522256513,\n",
              " 0.042778934770088595,\n",
              " 0.05914935073037473,\n",
              " 1.2314983223914302,\n",
              " -15.490255817247926,\n",
              " 4.352157244999688,\n",
              " -0.0004691367973203202,\n",
              " -1.3772064509938087,\n",
              " 0.2820857493789268,\n",
              " -0.01249194454422125,\n",
              " -0.9400115034030564,\n",
              " 0.006622607126909534,\n",
              " -0.5485510540708696]"
            ]
          },
          "metadata": {},
          "execution_count": 9
        }
      ],
      "source": [
        "clf.coef_.tolist()"
      ]
    },
    {
      "cell_type": "code",
      "execution_count": null,
      "metadata": {
        "ExecuteTime": {
          "end_time": "2023-01-05T00:55:20.866088Z",
          "start_time": "2023-01-05T00:55:20.863273Z"
        },
        "id": "nX4dmvcXvCSb",
        "colab": {
          "base_uri": "https://localhost:8080/"
        },
        "outputId": "118acbab-0e8d-4408-e693-81a73e88d2bb"
      },
      "outputs": [
        {
          "output_type": "stream",
          "name": "stdout",
          "text": [
            "crim: -0.1\n",
            "zn: 0.04\n",
            "indus: 0.06\n",
            "chas: 1.23\n",
            "nox: -15.49\n",
            "rm: 4.35\n",
            "age: -0.0\n",
            "dis: -1.38\n",
            "rad: 0.28\n",
            "tax: -0.01\n",
            "ptratio: -0.94\n",
            "b: 0.01\n",
            "lstat: -0.55\n",
            "Constante: 32.48\n"
          ]
        }
      ],
      "source": [
        "# Coeficientes do modelo\n",
        "for feature, coef in zip(boston.columns.tolist(), clf.coef_.tolist()):\n",
        "    print(f\"{feature}: {round(coef, 2)}\")\n",
        "\n",
        "# Constante do modelo\n",
        "print(f\"Constante: {round(clf.intercept_, 2)}\")"
      ]
    },
    {
      "cell_type": "markdown",
      "metadata": {
        "id": "38_TQQ-fvCSb"
      },
      "source": [
        "### Erro do Modelo\n"
      ]
    },
    {
      "cell_type": "code",
      "execution_count": null,
      "metadata": {
        "ExecuteTime": {
          "end_time": "2023-01-05T00:57:50.139067Z",
          "start_time": "2023-01-05T00:57:50.134536Z"
        },
        "id": "tvV9Uq3pvCSb",
        "colab": {
          "base_uri": "https://localhost:8080/"
        },
        "outputId": "bc57c933-b621-4efd-8c81-bfa29949b137"
      },
      "outputs": [
        {
          "output_type": "stream",
          "name": "stdout",
          "text": [
            "MSE de Teste: 24.8\n",
            "MAE de Teste: 3.4\n"
          ]
        }
      ],
      "source": [
        "from sklearn.metrics import mean_absolute_error, mean_squared_error\n",
        "\n",
        "y_pred = clf.predict(X_test)\n",
        "\n",
        "print(f\"MSE de Teste: {mean_squared_error(y_test, y_pred):1.1f}\")\n",
        "print(f\"MAE de Teste: {mean_absolute_error(y_test, y_pred):1.1f}\")"
      ]
    },
    {
      "cell_type": "code",
      "execution_count": null,
      "metadata": {
        "ExecuteTime": {
          "end_time": "2023-01-05T00:59:31.733933Z",
          "start_time": "2023-01-05T00:59:31.730416Z"
        },
        "id": "rtZNSFEwvw3M",
        "colab": {
          "base_uri": "https://localhost:8080/"
        },
        "outputId": "fc44bd96-0920-40ec-a8de-41081521e8f3"
      },
      "outputs": [
        {
          "output_type": "stream",
          "name": "stdout",
          "text": [
            "O R² é de 0.686. Isto é, 68.6% dos casos são explicados pelo modelo.\n"
          ]
        }
      ],
      "source": [
        "from sklearn.metrics import r2_score\n",
        "\n",
        "r_quadrado = r2_score(y_test, y_pred)\n",
        "\n",
        "print('O R² é de {0}. Isto é, {1}% dos casos são explicados pelo modelo.'.format(round(r_quadrado,3), round(r_quadrado*100,1)))"
      ]
    },
    {
      "cell_type": "markdown",
      "metadata": {
        "id": "4Sl_T3S5vCSc"
      },
      "source": [
        "## Atividade - Regressão com o dataset [Diabetes](https://scikit-learn.org/stable/datasets/toy_dataset.html#diabetes-dataset)\n",
        "\n",
        "* $N = 442$\n",
        "* Atributos: 10\n",
        "    * `age`\n",
        "    * `sex`\n",
        "    * `bmi` Índice de Massa Corpórea (IMC) - *Body Mass Index* (BMI)\n",
        "    * `bp` pressão arterial média *blood pressure* (bp)\n",
        "    * `s1` colesterol total\n",
        "    * `s2` colesterol LDL\n",
        "    * `s3` colesterol HDL\n",
        "    * `s4` colesterol VLDL\n",
        "    * `s5` triglicerides\n",
        "    * `s6` glicose\n",
        "* Variável dependente: medida quantitativa de progressão da diabetes\n",
        "\n",
        "* Rodem o `LinearRegression()` nos dados de treino e mensure o desempenho nos dados de teste.\n",
        "\n",
        ">Obs: usar `test_size = 0.25` e `random_state = 123`"
      ]
    },
    {
      "cell_type": "code",
      "execution_count": null,
      "metadata": {
        "ExecuteTime": {
          "end_time": "2023-01-05T01:00:52.802674Z",
          "start_time": "2023-01-05T01:00:52.772249Z"
        },
        "id": "9T60YI52vCSc"
      },
      "outputs": [],
      "source": [
        "from sklearn.datasets import load_diabetes\n",
        "\n",
        "diabetes = load_diabetes()\n",
        "X = diabetes['data']\n",
        "y = diabetes['target']"
      ]
    },
    {
      "cell_type": "code",
      "execution_count": null,
      "metadata": {
        "ExecuteTime": {
          "end_time": "2023-01-05T01:00:57.370691Z",
          "start_time": "2023-01-05T01:00:57.367879Z"
        },
        "id": "t3840QwGvCSc",
        "colab": {
          "base_uri": "https://localhost:8080/"
        },
        "outputId": "88d3d2e9-2dff-48ca-a37b-aa2614d3943f"
      },
      "outputs": [
        {
          "output_type": "stream",
          "name": "stdout",
          "text": [
            "Nomes dos Atributos: ['age', 'sex', 'bmi', 'bp', 's1', 's2', 's3', 's4', 's5', 's6']\n",
            "Tamanho de X: (442, 10)\n",
            "Tamanho de y: (442,)\n"
          ]
        }
      ],
      "source": [
        "print(f\"Nomes dos Atributos: {diabetes['feature_names']}\")\n",
        "print(f\"Tamanho de X: {X.shape}\")\n",
        "print(f\"Tamanho de y: {y.shape}\")"
      ]
    },
    {
      "cell_type": "code",
      "execution_count": null,
      "metadata": {
        "ExecuteTime": {
          "end_time": "2023-01-05T01:00:59.558087Z",
          "start_time": "2023-01-05T01:00:59.555047Z"
        },
        "id": "CUruN1XJvCSd"
      },
      "outputs": [],
      "source": [
        "from sklearn.model_selection import train_test_split\n",
        "\n",
        "X_train, X_test, y_train, y_test = train_test_split(X, y, test_size=0.25, random_state=18)"
      ]
    },
    {
      "cell_type": "code",
      "execution_count": null,
      "metadata": {
        "ExecuteTime": {
          "end_time": "2023-01-05T01:01:02.757250Z",
          "start_time": "2023-01-05T01:01:02.754477Z"
        },
        "id": "6QRCdTnuvCSd",
        "colab": {
          "base_uri": "https://localhost:8080/"
        },
        "outputId": "6cf79cbd-f288-46f7-f09f-e662e8b7aefa"
      },
      "outputs": [
        {
          "output_type": "stream",
          "name": "stdout",
          "text": [
            "Tamanho de X_train: (331, 10)\n",
            "Tamanho de X_test: (111, 10)\n",
            "Tamanho de y_train: (331,)\n",
            "Tamanho de y_test: (111,)\n"
          ]
        }
      ],
      "source": [
        "print(f\"Tamanho de X_train: {X_train.shape}\")\n",
        "print(f\"Tamanho de X_test: {X_test.shape}\")\n",
        "print(f\"Tamanho de y_train: {y_train.shape}\")\n",
        "print(f\"Tamanho de y_test: {y_test.shape}\")"
      ]
    },
    {
      "cell_type": "code",
      "source": [
        "from sklearn.linear_model import LinearRegression\n",
        "\n",
        "clf = LinearRegression()"
      ],
      "metadata": {
        "id": "jP0AefKIXEIg"
      },
      "execution_count": null,
      "outputs": []
    },
    {
      "cell_type": "code",
      "source": [
        "clf.fit(X_train, y_train)"
      ],
      "metadata": {
        "colab": {
          "base_uri": "https://localhost:8080/"
        },
        "id": "5C0o32wCXUDo",
        "outputId": "9679d7d9-9f8f-482a-85a8-1a4844ed0099"
      },
      "execution_count": null,
      "outputs": [
        {
          "output_type": "execute_result",
          "data": {
            "text/plain": [
              "LinearRegression()"
            ]
          },
          "metadata": {},
          "execution_count": 47
        }
      ]
    },
    {
      "cell_type": "code",
      "source": [
        "from sklearn.metrics import mean_absolute_error, mean_squared_error\n",
        "\n",
        "y_pred = clf.predict(X_test)\n",
        "\n",
        "print(f\"MSE de Teste: {mean_squared_error(y_test, y_pred):1.1f}\")\n",
        "print(f\"MAE de Teste: {mean_absolute_error(y_test, y_pred):1.1f}\")"
      ],
      "metadata": {
        "colab": {
          "base_uri": "https://localhost:8080/"
        },
        "id": "-UGvPpklaT9I",
        "outputId": "18cca2e6-d942-43df-9307-f9ba74ef0657"
      },
      "execution_count": null,
      "outputs": [
        {
          "output_type": "stream",
          "name": "stdout",
          "text": [
            "MSE de Teste: 3006.1\n",
            "MAE de Teste: 47.0\n"
          ]
        }
      ]
    },
    {
      "cell_type": "code",
      "source": [
        "from sklearn.metrics import r2_score\n",
        "\n",
        "r_quadrado = r2_score(y_test, y_pred)\n",
        "\n",
        "print('O R² é de {0}. Isto é, {1}% dos casos são explicados pelo modelo.'.format(round(r_quadrado,3), round(r_quadrado*100,1)))"
      ],
      "metadata": {
        "colab": {
          "base_uri": "https://localhost:8080/"
        },
        "id": "4biBz0i-abii",
        "outputId": "241c5ae0-921f-4484-87db-4e6fded00d2f"
      },
      "execution_count": null,
      "outputs": [
        {
          "output_type": "stream",
          "name": "stdout",
          "text": [
            "O R² é de 0.506. Isto é, 50.6% dos casos são explicados pelo modelo.\n"
          ]
        }
      ]
    },
    {
      "cell_type": "code",
      "source": [],
      "metadata": {
        "id": "Pzi1hNugbBmo"
      },
      "execution_count": null,
      "outputs": []
    }
  ],
  "metadata": {
    "celltoolbar": "Slideshow",
    "colab": {
      "provenance": [],
      "include_colab_link": true
    },
    "kernelspec": {
      "display_name": "Python 3 (ipykernel)",
      "language": "python",
      "name": "python3"
    },
    "language_info": {
      "codemirror_mode": {
        "name": "ipython",
        "version": 3
      },
      "file_extension": ".py",
      "mimetype": "text/x-python",
      "name": "python",
      "nbconvert_exporter": "python",
      "pygments_lexer": "ipython3",
      "version": "3.10.7"
    },
    "rise": {
      "autolaunch": true,
      "enable_chalkboard": true,
      "progress": true,
      "scroll": true,
      "slideNumber": true,
      "theme": "white"
    },
    "toc": {
      "base_numbering": 1,
      "nav_menu": {},
      "number_sections": true,
      "sideBar": true,
      "skip_h1_title": false,
      "title_cell": "Table of Contents",
      "title_sidebar": "Contents",
      "toc_cell": false,
      "toc_position": {},
      "toc_section_display": true,
      "toc_window_display": false
    },
    "varInspector": {
      "cols": {
        "lenName": 16,
        "lenType": 16,
        "lenVar": 40
      },
      "kernels_config": {
        "python": {
          "delete_cmd_postfix": "",
          "delete_cmd_prefix": "del ",
          "library": "var_list.py",
          "varRefreshCmd": "print(var_dic_list())"
        },
        "r": {
          "delete_cmd_postfix": ") ",
          "delete_cmd_prefix": "rm(",
          "library": "var_list.r",
          "varRefreshCmd": "cat(var_dic_list()) "
        }
      },
      "types_to_exclude": [
        "module",
        "function",
        "builtin_function_or_method",
        "instance",
        "_Feature"
      ],
      "window_display": false
    },
    "vscode": {
      "interpreter": {
        "hash": "06d68c20bcfcda21d00d0677d53a57f580035efe4bcc718461f4d6bcfa640ca7"
      }
    }
  },
  "nbformat": 4,
  "nbformat_minor": 0
}