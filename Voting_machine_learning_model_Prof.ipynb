{
  "nbformat": 4,
  "nbformat_minor": 0,
  "metadata": {
    "colab": {
      "provenance": [],
      "include_colab_link": true
    },
    "kernelspec": {
      "name": "python3",
      "display_name": "Python 3"
    },
    "language_info": {
      "name": "python"
    }
  },
  "cells": [
    {
      "cell_type": "markdown",
      "metadata": {
        "id": "view-in-github",
        "colab_type": "text"
      },
      "source": [
        "<a href=\"https://colab.research.google.com/github/LidiMG/Machine_Learning/blob/main/Voting_machine_learning_model_Prof.ipynb\" target=\"_parent\"><img src=\"https://colab.research.google.com/assets/colab-badge.svg\" alt=\"Open In Colab\"/></a>"
      ]
    },
    {
      "cell_type": "markdown",
      "source": [
        " ## importing libraries"
      ],
      "metadata": {
        "id": "bBgoft1M2soe"
      }
    },
    {
      "cell_type": "code",
      "source": [
        "from sklearn.ensemble import VotingClassifier\n",
        "from sklearn.linear_model import LogisticRegression\n",
        "from sklearn.svm import SVC\n",
        "from sklearn.tree import DecisionTreeClassifier\n",
        "from sklearn.datasets import load_iris\n",
        "from sklearn.metrics import accuracy_score\n",
        "from sklearn.model_selection import train_test_split"
      ],
      "metadata": {
        "id": "Qdq1SyQj26Su"
      },
      "execution_count": null,
      "outputs": []
    },
    {
      "cell_type": "markdown",
      "source": [
        "## loading iris dataset"
      ],
      "metadata": {
        "id": "Cgo3VeIS3ErE"
      }
    },
    {
      "cell_type": "code",
      "source": [
        "iris = load_iris()\n",
        "X = iris.data[:, :4]\n",
        "y = iris.target"
      ],
      "metadata": {
        "id": "Zz2B6HLj3Ii-"
      },
      "execution_count": null,
      "outputs": []
    },
    {
      "cell_type": "code",
      "source": [
        "# train_test_split\n",
        "X_train, X_test, y_train, y_test = train_test_split(X, y, test_size = 0.20, random_state = 123)"
      ],
      "metadata": {
        "id": "J0P7GVsn3Lb7"
      },
      "execution_count": null,
      "outputs": []
    },
    {
      "cell_type": "code",
      "source": [
        "# group / ensemble of models\n",
        "estimator = []\n",
        "estimator.append(('LR', LogisticRegression(solver ='lbfgs', multi_class ='multinomial', max_iter = 200)))\n",
        "estimator.append(('SVC', SVC(gamma ='auto', probability = True)))\n",
        "estimator.append(('DTC', DecisionTreeClassifier()))"
      ],
      "metadata": {
        "id": "14MHGlqT3bV6"
      },
      "execution_count": null,
      "outputs": []
    },
    {
      "cell_type": "code",
      "source": [
        "estimator"
      ],
      "metadata": {
        "colab": {
          "base_uri": "https://localhost:8080/"
        },
        "id": "XDv15WmASnbm",
        "outputId": "64e0ea00-07d8-4a66-8a48-da6785509ba3"
      },
      "execution_count": null,
      "outputs": [
        {
          "output_type": "execute_result",
          "data": {
            "text/plain": [
              "[('LR', LogisticRegression(max_iter=200, multi_class='multinomial')),\n",
              " ('SVC', SVC(gamma='auto', probability=True)),\n",
              " ('DTC', DecisionTreeClassifier())]"
            ]
          },
          "metadata": {},
          "execution_count": 8
        }
      ]
    },
    {
      "cell_type": "markdown",
      "source": [
        "## Voting Classifier with hard voting\n",
        "\n",
        "Na _**Hard Voting Classifier**_, a classe de saída prevista é a classe com a  maioria de votos, ou seja, a classe que tinha a maior probabilidade de ser prevista por cada um dos classificadores. Suponhamos que três classificadores previram a classe de saída (A, A, B), então aqui a maioria previu A como saída. Assim, A será a previsão final."
      ],
      "metadata": {
        "id": "vwSRhIO25C3F"
      }
    },
    {
      "cell_type": "code",
      "source": [
        "import numpy as np"
      ],
      "metadata": {
        "id": "GU_OxgqEUY33"
      },
      "execution_count": null,
      "outputs": []
    },
    {
      "cell_type": "code",
      "source": [
        "SEED = 1234\n",
        "\n",
        "np.random.rand(SEED)\n",
        "\n",
        "vot_hard = VotingClassifier(estimators = estimator, voting ='hard')\n",
        "vot_hard.fit(X_train, y_train)\n",
        "y_prediction = vot_hard.predict(X_test)"
      ],
      "metadata": {
        "id": "EVsN1WfH3z5M"
      },
      "execution_count": null,
      "outputs": []
    },
    {
      "cell_type": "code",
      "source": [
        "score = accuracy_score(y_test, y_prediction)*100\n",
        "print(f'Hard Voting Score: {score:.1f}%')"
      ],
      "metadata": {
        "colab": {
          "base_uri": "https://localhost:8080/"
        },
        "id": "m3_ZBzw235cf",
        "outputId": "1ed710ec-018b-43e4-e5d2-8735750816a5"
      },
      "execution_count": null,
      "outputs": [
        {
          "output_type": "stream",
          "name": "stdout",
          "text": [
            "Hard Voting Score: 100.0%\n"
          ]
        }
      ]
    },
    {
      "cell_type": "markdown",
      "source": [
        "## Voting Classifier with soft voting\n",
        "\n",
        "Na _**Soft Voting Classifier**_, a classe de saída é a previsão baseada na média das probabilidades dadas a essa classe. Suponhamos que dada alguma entrada a três modelos, a probabilidade de predição para a classe A = (0,30, 0,47, 0,53) e B = (0,20, 0,32, 0,40). Assim, a média para a classe A é 0,4333 e B é 0,3067, o vencedor é claramente a classe A porque tinha a maior probabilidade média por cada classificador."
      ],
      "metadata": {
        "id": "xLameVqF5bbi"
      }
    },
    {
      "cell_type": "code",
      "source": [
        "# \n",
        "vot_soft = VotingClassifier(estimators = estimator, voting ='soft')\n",
        "vot_soft.fit(X_train, y_train)\n",
        "y_prediction = vot_soft.predict(X_test)"
      ],
      "metadata": {
        "id": "GHCfwZo62ywW"
      },
      "execution_count": null,
      "outputs": []
    },
    {
      "cell_type": "code",
      "source": [
        "# using accuracy_score\n",
        "score = accuracy_score(y_test, y_prediction)*100\n",
        "print(f'Soft Voting Score: {score:.1f}%')"
      ],
      "metadata": {
        "colab": {
          "base_uri": "https://localhost:8080/"
        },
        "id": "AYDm_KTm4tbm",
        "outputId": "70126171-e529-4a91-a025-a81c6e16dd29"
      },
      "execution_count": null,
      "outputs": [
        {
          "output_type": "stream",
          "name": "stdout",
          "text": [
            "Soft Voting Score: 93.3%\n"
          ]
        }
      ]
    },
    {
      "cell_type": "markdown",
      "source": [
        "**Nota**: Certifique-se de incluir uma variedade de modelos para alimentar um Classificador de Votação para ter a certeza de que o erro cometido por um pode ser resolvido pelo outro."
      ],
      "metadata": {
        "id": "fRi72_tW4zF9"
      }
    }
  ]
}